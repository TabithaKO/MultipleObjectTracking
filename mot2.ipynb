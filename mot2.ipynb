{
  "nbformat": 4,
  "nbformat_minor": 5,
  "metadata": {
    "kernelspec": {
      "display_name": "Python 3",
      "language": "python",
      "name": "python3"
    },
    "language_info": {
      "codemirror_mode": {
        "name": "ipython",
        "version": 3
      },
      "file_extension": ".py",
      "mimetype": "text/x-python",
      "name": "python",
      "nbconvert_exporter": "python",
      "pygments_lexer": "ipython3",
      "version": "3.9.1"
    },
    "colab": {
      "name": "mot2.ipynb",
      "provenance": []
    }
  },
  "cells": [
    {
      "cell_type": "code",
      "metadata": {
        "id": "spare-borough"
      },
      "source": [
        "import cv2\n",
        "import numpy as np\n",
        "\n",
        "from glob import glob\n",
        "from random import randint\n",
        "from scipy.optimize import linear_sum_assignment"
      ],
      "id": "spare-borough",
      "execution_count": null,
      "outputs": []
    },
    {
      "cell_type": "code",
      "metadata": {
        "id": "printable-client"
      },
      "source": [
        "paths = sorted(glob('./CS585-Cells/*'))"
      ],
      "id": "printable-client",
      "execution_count": null,
      "outputs": []
    },
    {
      "cell_type": "code",
      "metadata": {
        "id": "silent-score"
      },
      "source": [
        "def getCont(path):\n",
        "    img = cv2.imread(path, 0)\n",
        "    img = cv2.blur(img, (5, 5))\n",
        "    \n",
        "    a_thres_output = cv2.adaptiveThreshold(img, 255, cv2.ADAPTIVE_THRESH_MEAN_C, cv2.THRESH_BINARY, 17, -5)\n",
        "    contours, _ = cv2.findContours(a_thres_output, cv2.RETR_TREE, cv2.CHAIN_APPROX_SIMPLE)\n",
        "    \n",
        "    return contours\n",
        "\n",
        "def getCent(c):\n",
        "    points = [i[0] for i in c]\n",
        "    x, y = zip(*points)\n",
        "    x, y = np.mean(x), np.mean(y)\n",
        "    return (x, y)\n",
        "\n",
        "det = lambda x: [getCent(i) for i in getCont(x)]"
      ],
      "id": "silent-score",
      "execution_count": null,
      "outputs": []
    },
    {
      "cell_type": "code",
      "metadata": {
        "id": "collected-annex"
      },
      "source": [
        "# dets = [det(i) for i in paths]\n",
        "def readFile(fp):\n",
        "    with open(fp, 'r') as file:\n",
        "        data = file.read().strip()\n",
        "    \n",
        "    data = data.split('\\n')\n",
        "    f = lambda x: np.array(list(map(float, x.split(','))), np.float32)\n",
        "    return list(map(f, data))\n",
        "\n",
        "\n",
        "\n",
        "detp = sorted(glob('./cellAnns/*'))\n",
        "dets = [readFile(i) for i in detp]\n"
      ],
      "id": "collected-annex",
      "execution_count": null,
      "outputs": []
    },
    {
      "cell_type": "code",
      "metadata": {
        "id": "charged-soccer"
      },
      "source": [
        "class Obj:\n",
        "    def __init__(self, start_measure):\n",
        "        self.filter = cv2.KalmanFilter(4, 2)\n",
        "        self.color = (randint(80, 255), randint(80, 255), randint(80, 255))\n",
        "\n",
        "        \n",
        "        self.filter.measurementMatrix = np.array([[1, 0, 0, 0],\n",
        "                                                  [0, 1, 0, 0]], np.float32)\n",
        "\n",
        "        self.filter.transitionMatrix = np.array([[1, 0, 1, 0],\n",
        "                                                 [0, 1, 0, 1],\n",
        "                                                 [0, 0, 1, 0],\n",
        "                                                 [0, 0, 0, 1]], np.float32)\n",
        "        #  process noise\n",
        "        self.filter.processNoiseCov = 0.3 * np.array([[1, 0, 0, 0],\n",
        "                                                 [0, 1, 0, 0],\n",
        "                                                 [0, 0, 1, 0],\n",
        "                                                 [0, 0, 0, 1]], np.float32)\n",
        "        \n",
        "        \n",
        "        for i in range(10):\n",
        "            self.filter.predict()\n",
        "            self.filter.correct(start_measure)\n",
        "        \n",
        "        \n",
        "        self.history = []\n",
        "        self.tracks = 0\n",
        "        \n",
        "        self._miss = 0\n",
        "        \n",
        "    def getPred(self):\n",
        "            pred =  self.filter.predict()\n",
        "            pred = np.array([pred[0][0], pred[1][0]])\n",
        "\n",
        "            self.history.append(pred)\n",
        "        \n",
        "            return pred\n",
        "    \n",
        "    def update(self, measure):\n",
        "        self.filter.correct(measure)\n",
        "        self._miss = 0\n",
        "        self.tracks += 1\n",
        "        \n",
        "    def miss(self):\n",
        "        self._miss += 1\n",
        "        if self._miss >= 6:\n",
        "            return True\n",
        "        else:\n",
        "            \n",
        "            return False\n",
        "        \n",
        "    def draw(self, img):\n",
        "        if self.tracks>=4:\n",
        "            pts = np.array([[np.rint(i).astype('int32').tolist() for i in self.history[3:]]])\n",
        "            cv2.polylines(img, pts, False, self.color, 1, lineType=cv2.LINE_8)\n",
        "        return img    "
      ],
      "id": "charged-soccer",
      "execution_count": null,
      "outputs": []
    },
    {
      "cell_type": "code",
      "metadata": {
        "id": "coral-distribution"
      },
      "source": [
        "sq = lambda x: x*x\n",
        "dist = lambda x, y: sum(sq(x-y))**0.5\n",
        "\n",
        "def getCM(est, meas):\n",
        "    x, y = len(est), len(meas)\n",
        "    \n",
        "    cm = 70*np.ones((x+y, x+y), dtype = np.float64)\n",
        "    for i in range(x):\n",
        "        for j in range(y):\n",
        "            cm[i, x+j] = cm[x+j, i] = dist(est[i], meas[j])\n",
        "    return cm"
      ],
      "id": "coral-distribution",
      "execution_count": null,
      "outputs": []
    },
    {
      "cell_type": "markdown",
      "metadata": {
        "id": "zWQphER-eDXf"
      },
      "source": [
        "Have a folder in the same directory called cellResults"
      ],
      "id": "zWQphER-eDXf"
    },
    {
      "cell_type": "code",
      "metadata": {
        "id": "pointed-mineral"
      },
      "source": [
        "objs =  [Obj(i) for i in dets[0]]\n",
        "\n",
        "# fourcc = cv2.VideoWriter_fourcc(*'mp4v') \n",
        "# video=cv2.VideoWriter('video.avi', fourcc, 1,(1024, 1024))\n",
        "\n",
        "counter = 0\n",
        "for ind, det in enumerate(dets[1:]):\n",
        "    CM = getCM([obj.getPred() for obj in objs], det)\n",
        "    obj_v = [False for i in objs]\n",
        "    mea_v = [False for i in det]\n",
        "    \n",
        "    row_ind, col_ind = linear_sum_assignment(CM)\n",
        "    \n",
        "    prop = (row_ind!=col_ind)\n",
        "    row_ind, col_ind = row_ind[prop], col_ind[prop]\n",
        "    \n",
        "    mi = (row_ind<len(objs)).sum()\n",
        "    row_ind, col_ind = row_ind[:mi], col_ind[:mi]\n",
        "    \n",
        "    col_ind -= len(objs)\n",
        "    prop = (col_ind>=0)\n",
        "    row_ind, col_ind = row_ind[prop], col_ind[prop]\n",
        "    \n",
        "#     print(row_ind, len(objs))\n",
        "#     print(col_ind, len(det))\n",
        "    for i in range(row_ind.shape[0]):\n",
        "        objs[row_ind[i]].update(det[col_ind[i]])\n",
        "        obj_v[row_ind[i]], mea_v[col_ind[i]] = True, True\n",
        "    \n",
        "    miss = [i for i in [i for i, j in enumerate(obj_v) if not j] if objs[i].miss()]\n",
        "    miss = [j-i for i, j in enumerate(miss)]\n",
        "    for i in miss:\n",
        "        objs.pop(i)\n",
        "         \n",
        "    \n",
        "    for i in [i for i, j in enumerate(mea_v) if not j]:\n",
        "        objs.append(Obj(det[i]))\n",
        "    \n",
        "    img = cv2.imread(paths[ind+1], 0)\n",
        "    img = cv2.cvtColor(img, cv2.COLOR_GRAY2BGR)\n",
        "    \n",
        "    for obj in objs:\n",
        "        img = obj.draw(img)\n",
        "    \n",
        "    cv2.imwrite(\"./cellResults/\"+str(counter)+\".jpg\",img)\n",
        "    counter += 1\n",
        "#     video.write(img)\n",
        "    # cv2.waitKey(0);\n",
        "\n",
        "# cv2.destroyAllWindows()\n",
        "# video.release()"
      ],
      "id": "pointed-mineral",
      "execution_count": null,
      "outputs": []
    },
    {
      "cell_type": "code",
      "metadata": {
        "colab": {
          "base_uri": "https://localhost:8080/"
        },
        "id": "continental-calibration",
        "outputId": "f29b992b-a3a7-481d-829e-52053f26732c"
      },
      "source": [
        "import os \n",
        "from os.path import isfile, join\n",
        "pathIn= 'cellResults/'\n",
        "pathOut = 'cellResults/cells.mp4'\n",
        "# It was a 50s video and I generated 150 frames\n",
        "# Therefore I have 3fps\n",
        "# I'll use 10 to make the video run faster\n",
        "fps = 10\n",
        "frame_array = []\n",
        "files = [f for f in os.listdir(pathIn) if isfile(join(pathIn, f))]\n",
        "#for sorting the file names properly\n",
        "files.sort(key = lambda x: x[5:-4])\n",
        "files.sort()\n",
        "frame_array = []\n",
        "files = [f for f in os.listdir(pathIn) if isfile(join(pathIn, f))]\n",
        "#for sorting the file names properly\n",
        "files.sort(key = lambda x: x[5:-4])\n",
        "print(files)"
      ],
      "id": "continental-calibration",
      "execution_count": null,
      "outputs": [
        {
          "output_type": "stream",
          "text": [
            "['0.jpg', '1.jpg', '2.jpg', '3.jpg', '4.jpg', '5.jpg', '6.jpg', '7.jpg', '8.jpg', '9.jpg', '10.jpg', '11.jpg', '12.jpg', '13.jpg', '14.jpg', '15.jpg', '16.jpg', '17.jpg', '18.jpg', '19.jpg', '20.jpg', '21.jpg', '22.jpg', '23.jpg', '24.jpg', '25.jpg', '26.jpg', '27.jpg', '28.jpg', '29.jpg', '30.jpg', '31.jpg', '32.jpg', '33.jpg', '34.jpg', '35.jpg', '36.jpg', '37.jpg', '38.jpg', '39.jpg', '40.jpg', '41.jpg', '42.jpg', '43.jpg', '44.jpg', '45.jpg', '46.jpg', '47.jpg', '48.jpg', '49.jpg', '50.jpg', '51.jpg', '52.jpg', '53.jpg', '54.jpg', '55.jpg', '56.jpg', '57.jpg', '58.jpg', '59.jpg', '60.jpg', '61.jpg', '62.jpg', '63.jpg', '64.jpg', '65.jpg', '66.jpg', '67.jpg', '68.jpg', '69.jpg', '70.jpg', '71.jpg', '72.jpg', '73.jpg', '74.jpg', '75.jpg', '76.jpg', '77.jpg', '78.jpg', '79.jpg', '80.jpg', '81.jpg', '82.jpg', '83.jpg', '84.jpg', '85.jpg', '86.jpg', '87.jpg', '88.jpg', '89.jpg', '90.jpg', '91.jpg', '92.jpg', '93.jpg', '94.jpg', '95.jpg', '96.jpg', '97.jpg', '98.jpg', '99.jpg', '100.jpg', '101.jpg', '102.jpg', '103.jpg', '104.jpg', '105.jpg', '106.jpg', '107.jpg', '108.jpg', '109.jpg']\n"
          ],
          "name": "stdout"
        }
      ]
    },
    {
      "cell_type": "code",
      "metadata": {
        "id": "w6IwiXOefTcD"
      },
      "source": [
        "for i in range(len(files)):\n",
        "    filename=pathIn + files[i]\n",
        "    #reading each files\n",
        "    img = cv2.imread(filename)\n",
        "    height, width, layers = img.shape\n",
        "    size = (width,height)\n",
        "    \n",
        "    #inserting the frames into an image array\n",
        "    frame_array.append(img)"
      ],
      "id": "w6IwiXOefTcD",
      "execution_count": null,
      "outputs": []
    },
    {
      "cell_type": "code",
      "metadata": {
        "id": "P1rHcj7zfZ8G"
      },
      "source": [
        "out = cv2.VideoWriter(pathOut,cv2.VideoWriter_fourcc(*'DIVX'), fps, size)\n",
        "for i in range(len(frame_array)):\n",
        "    # writing to a image array\n",
        "    print(i)\n",
        "    out.write(frame_array[i])\n",
        "out.release()"
      ],
      "id": "P1rHcj7zfZ8G",
      "execution_count": null,
      "outputs": []
    }
  ]
}