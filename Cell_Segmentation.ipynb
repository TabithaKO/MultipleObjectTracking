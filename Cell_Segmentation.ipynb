{
  "nbformat": 4,
  "nbformat_minor": 0,
  "metadata": {
    "colab": {
      "name": "Segmentation1.pynb",
      "provenance": []
    },
    "kernelspec": {
      "name": "python3",
      "display_name": "Python 3"
    },
    "language_info": {
      "name": "python"
    }
  },
  "cells": [
    {
      "cell_type": "code",
      "metadata": {
        "id": "Ajopk7q25tqY"
      },
      "source": [
        "cellAnns = []\n",
        "\n",
        "for fil in range(0,len(paths)):\n",
        "\n",
        "  img = cv2.imread(paths[fil], 0)\n",
        "  img = cv2.blur(img, (5, 5))\n",
        "  a_thres_output = cv2.adaptiveThreshold(img, 255, cv2.ADAPTIVE_THRESH_MEAN_C, cv2.THRESH_BINARY, 17, -5)\n",
        "\n",
        "  erosion_size = 4\n",
        "  dilation_size = 4\n",
        "  element = np.ones((erosion_size,erosion_size))\n",
        "\n",
        "  # perform erosions and dilations\n",
        "  img = cv2.erode(a_thres_output, element)\n",
        "  img = cv2.erode(img, element)\n",
        "  img = cv2.dilate(img, element)\n",
        "  img = cv2.dilate(img, element)\n",
        "\n",
        "  # mask the image\n",
        "  img[:100,:,] = np.zeros([100,cols])\n",
        "\n",
        "  # get the contours of the blobs\n",
        "  contours, _ = cv2.findContours(img, cv2.RETR_TREE, cv2.CHAIN_APPROX_SIMPLE)\n",
        "\n",
        "  cells = []\n",
        "  # find the average of the contour points\n",
        "  for cont in range(0,len(contours)):\n",
        "    x = []\n",
        "    y = []\n",
        "    print(\"len cont\",len(contours))\n",
        "\n",
        "    for k in contours[cont]:\n",
        "      # x_k = k[0][0]\n",
        "      print(\"x_k\",x_k)\n",
        "      y_k = k[0][1]\n",
        "      # print(\"y_k\",y_k)\n",
        "      x.append(x_k)\n",
        "      y.append(y_k)\n",
        "    \n",
        "    x_cont = int(np.mean(x))\n",
        "    y_cont = int(np.mean(y))\n",
        "\n",
        "    coord = [x_cont, y_cont]\n",
        "    cells.append(coord)\n",
        "  \n",
        "  cellAnns.append(cells)\n",
        "\n",
        "\n"
      ],
      "execution_count": null,
      "outputs": []
    }
  ]
}